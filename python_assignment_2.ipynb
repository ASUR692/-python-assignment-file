{
  "cells": [
    {
      "cell_type": "markdown",
      "source": [
        "Que 1. What are data structures, and why are they important\n",
        "Ans 1. Data structures are organized ways to store and manage data so that it can be used efficiently. They are important because they help in organizing data, making algorithms faster, and solving problems effectively.\n",
        "\n",
        "Que 2. Explain the difference between mutable and immutable data types with examples\n",
        "Ans 2. Mutable data types can be changed after creation, like lists and dictionaries. Immutable data types cannot be changed once created, like strings and tuples. Example: list = [1, 2, 3] (mutable), string = \"hello\" (immutable)\n",
        "\n",
        "Que 3. What are the main differences between lists and tuples in Python\n",
        "Ans 3. Lists are mutable and use square brackets [ ]. Tuples are immutable and use round brackets ( ). Lists can be changed; tuples cannot be modified once created.\n",
        "\n",
        "Que 4. Describe how dictionaries store data\n",
        "Ans 4. Dictionaries store data in key-value pairs. Each key maps to a value, and the keys must be unique. Data can be accessed quickly using the keys.\n",
        "\n",
        "Que 5. Why might you use a set instead of a list in Python\n",
        "Ans 5. Sets are used when we want to store only unique items. They automatically remove duplicates and allow fast searching using the \"in\" keyword.\n",
        "\n",
        "Que 6. What is a string in Python, and how is it different from a list\n",
        "Ans 6. A string is a sequence of characters and is immutable. A list can contain multiple data types and is mutable. Strings cannot be changed; lists can.\n",
        "\n",
        "Que 7. How do tuples ensure data integrity in Python\n",
        "Ans 7. Tuples are immutable, so their values cannot be accidentally changed. This helps in keeping the data safe and reliable.\n",
        "\n",
        "Que 8. What is a hash table, and how does it relate to dictionaries in Python\n",
        "Ans 8. A hash table stores data using a hash function to map keys to values. Python dictionaries are built using hash tables, which makes data access fast.\n",
        "\n",
        "Que 9. Can lists contain different data types in Python\n",
        "Ans 9. Yes, lists in Python can contain different types like integers, strings, floats, and even other lists or dictionaries.\n",
        "\n",
        "Que 10. Explain why strings are immutable in Python\n",
        "Ans 10. Strings are immutable to improve performance and security. When we change a string, Python actually creates a new one instead of modifying the original.\n",
        "\n",
        "Que 11. What advantages do dictionaries offer over lists for certain tasks\n",
        "Ans 11. Dictionaries allow faster data access using keys. They are better when data needs to be labeled and accessed by a unique identifier.\n",
        "\n",
        "Que 12. Describe a scenario where using a tuple would be preferable over a list\n",
        "Ans 12. Tuples are better when we want fixed data, like coordinates (x, y) or days of the week. Since they cannot be changed, they protect the data.\n",
        "\n",
        "Que 13. How do sets handle duplicate values in Python\n",
        "Ans 13. Sets automatically remove duplicate values. Even if you try to add duplicates, only unique values are stored.\n",
        "\n",
        "Que 14. How does the “in” keyword work differently for lists and dictionaries\n",
        "Ans 14. In a list, “in” checks if a value exists. In a dictionary, “in” checks if a key exists, not the value.\n",
        "\n",
        "Que 15. Can you modify the elements of a tuple? Explain why or why not\n",
        "Ans 15. No, you cannot modify elements of a tuple because tuples are immutable. Once created, their data cannot be changed.\n",
        "\n",
        "Que 16. What is a nested dictionary, and give an example of its use case\n",
        "Ans 16. A nested dictionary is a dictionary inside another dictionary. Example: student = {\"name\": \"Ravi\", \"marks\": {\"math\": 90, \"science\": 85}}\n",
        "\n",
        "Que 17. Describe the time complexity of accessing elements in a dictionary\n",
        "Ans 17. Accessing elements in a dictionary is usually O(1) time complexity, meaning it is very fast and efficient.\n",
        "\n",
        "Que 18. In what situations are lists preferred over dictionaries\n",
        "Ans 18. Lists are better when order matters or when we need to store simple collections of data without keys.\n",
        "\n",
        "Que 19. Why are dictionaries considered unordered, and how does that affect data retrieval\n",
        "Ans 19. In older Python versions, dictionaries were unordered. That means items didn't follow the order of insertion. From Python 3.7+, they maintain insertion order but access is still based on keys.\n",
        "\n",
        "Que 20. Explain the difference between a list and a dictionary in terms of data retrieval\n",
        "Ans 20. Lists retrieve data by index numbers, like list[0]. Dictionaries retrieve data by keys, like dict[\"name\"], which is faster and more readable for labeled data."
      ],
      "metadata": {
        "id": "7ivHIPpjdVSM"
      }
    },
    {
      "cell_type": "code",
      "source": [
        "# write a code with your name and print it .\n",
        "\n",
        "name = \"rishi\"\n",
        "print(name)"
      ],
      "metadata": {
        "colab": {
          "base_uri": "https://localhost:8080/"
        },
        "id": "G_9d_rWH7VLt",
        "outputId": "e4178ac5-3114-40a4-e85c-2b2d3ddea716"
      },
      "execution_count": null,
      "outputs": [
        {
          "output_type": "stream",
          "name": "stdout",
          "text": [
            "rishi\n"
          ]
        }
      ]
    },
    {
      "cell_type": "code",
      "source": [
        "# write a code to find the length of the string \"hellow world \"\n",
        "\n",
        "text = \"hello world\"\n",
        "print(len(text))"
      ],
      "metadata": {
        "colab": {
          "base_uri": "https://localhost:8080/"
        },
        "id": "n_IZc3o48Dre",
        "outputId": "1f5e5be9-b6da-4d83-97fd-7127bcaa3b41"
      },
      "execution_count": null,
      "outputs": [
        {
          "output_type": "stream",
          "name": "stdout",
          "text": [
            "11\n"
          ]
        }
      ]
    },
    {
      "cell_type": "code",
      "source": [
        "# write a code to slice the first 3 charecter from the string \"python programing \"\n",
        "\n",
        "text = \"python programing\"\n",
        "print(text[:3])"
      ],
      "metadata": {
        "colab": {
          "base_uri": "https://localhost:8080/"
        },
        "id": "-itk8xbW8ujU",
        "outputId": "7a08b442-6f98-4b52-d1cf-917edc18d917"
      },
      "execution_count": null,
      "outputs": [
        {
          "output_type": "stream",
          "name": "stdout",
          "text": [
            "pyt\n"
          ]
        }
      ]
    },
    {
      "cell_type": "code",
      "source": [
        "# write a code to convert the string \"hello\" to uppercase.\n",
        "\n",
        "print(\"hello\".upper())"
      ],
      "metadata": {
        "colab": {
          "base_uri": "https://localhost:8080/"
        },
        "id": "ie4c7g2q9Qpp",
        "outputId": "749c51ff-010c-4e91-b9d4-2b0fde0d7904"
      },
      "execution_count": null,
      "outputs": [
        {
          "output_type": "stream",
          "name": "stdout",
          "text": [
            "HELLO\n"
          ]
        }
      ]
    },
    {
      "cell_type": "code",
      "source": [
        "# write a code to replace the \"apple\" with \"orange\" in the string i like apple .\n",
        "\n",
        "text = \"i like apple\"\n",
        "print(text. replace (\"apple\",\"orange\"))"
      ],
      "metadata": {
        "colab": {
          "base_uri": "https://localhost:8080/"
        },
        "id": "afEa9o8Q9e47",
        "outputId": "6711fa81-54bd-4819-c5c3-31ea8d4a782e"
      },
      "execution_count": null,
      "outputs": [
        {
          "output_type": "stream",
          "name": "stdout",
          "text": [
            "i like orange\n"
          ]
        }
      ]
    },
    {
      "cell_type": "code",
      "source": [
        "# write a code of lis 1 to 5 and print it\n",
        "r = [1,2,3,4,5]\n",
        "print(r)"
      ],
      "metadata": {
        "colab": {
          "base_uri": "https://localhost:8080/"
        },
        "id": "HYkFYzv_99UO",
        "outputId": "1a36c171-874b-4ef3-bc83-a0f679a194cf"
      },
      "execution_count": null,
      "outputs": [
        {
          "output_type": "stream",
          "name": "stdout",
          "text": [
            "[1, 2, 3, 4, 5]\n"
          ]
        }
      ]
    },
    {
      "cell_type": "code",
      "source": [
        "# write a code to creat a list with number 10 to the list [1,2,3,4]\n",
        "\n",
        "v = [1,2,3,4,5]\n",
        "v.append(10)\n",
        "print(v)\n"
      ],
      "metadata": {
        "colab": {
          "base_uri": "https://localhost:8080/"
        },
        "id": "pF-lD6RC-Sya",
        "outputId": "7b8cf1f2-4016-4728-babc-19eeb9fa0126"
      },
      "execution_count": null,
      "outputs": [
        {
          "output_type": "stream",
          "name": "stdout",
          "text": [
            "[1, 2, 3, 4, 5, 10]\n"
          ]
        }
      ]
    },
    {
      "cell_type": "code",
      "source": [
        "\n",
        "# write a code to remove the number 3 from the list [1,2,3,4]\n",
        "\n",
        "t = [1,2,3,4]\n",
        "t.remove(3)\n",
        "print(t)"
      ],
      "metadata": {
        "colab": {
          "base_uri": "https://localhost:8080/"
        },
        "id": "2eMHOyEI-x5t",
        "outputId": "d3116938-166f-4fbb-8ed0-5746d43a5c48"
      },
      "execution_count": null,
      "outputs": [
        {
          "output_type": "stream",
          "name": "stdout",
          "text": [
            "[1, 2, 4]\n"
          ]
        }
      ]
    },
    {
      "cell_type": "code",
      "source": [
        "# write a code to access the second element in list ['a,b,c,d']\n",
        "\n",
        "t = ['1','B','C','D']\n",
        "print(t[1])"
      ],
      "metadata": {
        "colab": {
          "base_uri": "https://localhost:8080/"
        },
        "id": "MoXSNJhBDA2j",
        "outputId": "c545f2d6-38c3-4830-e9f2-fba88d3784b1"
      },
      "execution_count": null,
      "outputs": [
        {
          "output_type": "stream",
          "name": "stdout",
          "text": [
            "B\n"
          ]
        }
      ]
    },
    {
      "cell_type": "code",
      "source": [
        "# write a to reverse the list [10,20,30,40,50]\n",
        "\n",
        "list = [10,20.30,40,50]\n",
        "list . reverse()\n",
        "print(list)"
      ],
      "metadata": {
        "colab": {
          "base_uri": "https://localhost:8080/"
        },
        "id": "fZbaTszQDn1H",
        "outputId": "a04da97c-1e7b-4a51-e00e-40af9783ac86"
      },
      "execution_count": null,
      "outputs": [
        {
          "output_type": "stream",
          "name": "stdout",
          "text": [
            "[50, 40, 20.3, 10]\n"
          ]
        }
      ]
    },
    {
      "cell_type": "code",
      "source": [
        "# write a code to a tuple with the element 100,200, 300,and print it .\n",
        "\n",
        "tup = (100,200,300)\n",
        "print(tup)"
      ],
      "metadata": {
        "colab": {
          "base_uri": "https://localhost:8080/"
        },
        "id": "a02pJA-xEJ4i",
        "outputId": "7cc78e1d-45f1-4cf5-ffb9-526c0b6c5754"
      },
      "execution_count": null,
      "outputs": [
        {
          "output_type": "stream",
          "name": "stdout",
          "text": [
            "(100, 200, 300)\n"
          ]
        }
      ]
    },
    {
      "cell_type": "code",
      "source": [
        "# write a acess to access the second-to-last element of the tuple ('red','green','blue','yellow')\n",
        "\n",
        "color = ('red','green','blue','yellow')\n",
        "print(color[-2])"
      ],
      "metadata": {
        "colab": {
          "base_uri": "https://localhost:8080/"
        },
        "id": "HPJLB8-EEXKT",
        "outputId": "5f907d91-3cdb-4d92-ec62-e10c651e9a45"
      },
      "execution_count": null,
      "outputs": [
        {
          "output_type": "stream",
          "name": "stdout",
          "text": [
            "blue\n"
          ]
        }
      ]
    },
    {
      "cell_type": "code",
      "source": [
        "# write a code to find the minimum number in the tuple (10,20,30,40,50)\n",
        "\n",
        "j = ('10','20','30','40','50')\n",
        "print(min(j))"
      ],
      "metadata": {
        "colab": {
          "base_uri": "https://localhost:8080/"
        },
        "id": "0kILlZmEFFNl",
        "outputId": "ba49cd5f-eecc-4a53-b048-d1109db6f5b5"
      },
      "execution_count": null,
      "outputs": [
        {
          "output_type": "stream",
          "name": "stdout",
          "text": [
            "10\n"
          ]
        }
      ]
    },
    {
      "cell_type": "code",
      "source": [
        "# write a to find the index of the element \"cat\" in the tuple ('dog','cat','cow','rabbit')\n",
        "\n",
        "animal = ('dog','cat','cow','rabbit')\n",
        "print(animal.index(\"cat\"))"
      ],
      "metadata": {
        "colab": {
          "base_uri": "https://localhost:8080/"
        },
        "id": "Xo40vgJmHkvT",
        "outputId": "8efe9e5b-aaba-40f1-9e6c-26d1c8ce6e29"
      },
      "execution_count": null,
      "outputs": [
        {
          "output_type": "stream",
          "name": "stdout",
          "text": [
            "1\n"
          ]
        }
      ]
    },
    {
      "cell_type": "code",
      "source": [
        "# write a code to  creat a tuple contaning three different fruits and check \"kiwi\"is in it.\n",
        "\n",
        "fruits = ('apples','banana','kiwi',)\n",
        "print(\"kiwi\"in fruits)"
      ],
      "metadata": {
        "colab": {
          "base_uri": "https://localhost:8080/"
        },
        "id": "ZcvnF_ZpIcaF",
        "outputId": "e787e3df-1316-4fcf-c469-e4d6b3e94a1b"
      },
      "execution_count": null,
      "outputs": [
        {
          "output_type": "stream",
          "name": "stdout",
          "text": [
            "True\n"
          ]
        }
      ]
    },
    {
      "cell_type": "code",
      "source": [
        "# write a code to creat a set with the element \"a\",\"b\",\"c\" and print it\n",
        "v = {\"a\",\"b\",\"c\"}\n",
        "print(v)"
      ],
      "metadata": {
        "colab": {
          "base_uri": "https://localhost:8080/"
        },
        "id": "9o2v4gaW9SCR",
        "outputId": "ada75a5c-e8fc-494b-fd35-8734a7c6513f"
      },
      "execution_count": 3,
      "outputs": [
        {
          "output_type": "stream",
          "name": "stdout",
          "text": [
            "{'b', 'a', 'c'}\n"
          ]
        }
      ]
    },
    {
      "cell_type": "code",
      "source": [
        "# write a code to creat a set with the element 1,2,3,4,5,6,7,8,9 and print it\n",
        "\n",
        "f = {1,2,3,4,5,6,7,8,9}\n",
        "print(f)"
      ],
      "metadata": {
        "colab": {
          "base_uri": "https://localhost:8080/"
        },
        "id": "CunYI2QoI-w6",
        "outputId": "38d5617d-0794-48f9-c00e-e6a1733d2663"
      },
      "execution_count": null,
      "outputs": [
        {
          "output_type": "stream",
          "name": "stdout",
          "text": [
            "{1, 2, 3, 4, 5, 6, 7, 8, 9}\n"
          ]
        }
      ]
    },
    {
      "cell_type": "code",
      "source": [
        "# write a code to clear all the elements from the set {1,2,3,4,5}\n",
        "\n",
        "h = {1,2,3,4,5,6,7,8,9}\n",
        "h. clear()\n",
        "print(h)"
      ],
      "metadata": {
        "colab": {
          "base_uri": "https://localhost:8080/"
        },
        "id": "RcvVeh4KJWwn",
        "outputId": "cc58c9b1-e29c-4a03-a5f7-96861e9be7eb"
      },
      "execution_count": null,
      "outputs": [
        {
          "output_type": "stream",
          "name": "stdout",
          "text": [
            "set()\n"
          ]
        }
      ]
    },
    {
      "cell_type": "code",
      "source": [
        "# write a code to remove the element 4 from the set {1,2,3,4,5,6,}\n",
        "\n",
        "g = {1,2,3,4,5,6}\n",
        "g.remove(4)\n",
        "print(g)"
      ],
      "metadata": {
        "colab": {
          "base_uri": "https://localhost:8080/"
        },
        "id": "NWSnA2K8KFTQ",
        "outputId": "ed55edc0-4e75-4ab9-9ebb-73e610788265"
      },
      "execution_count": null,
      "outputs": [
        {
          "output_type": "stream",
          "name": "stdout",
          "text": [
            "{1, 2, 3, 5, 6}\n"
          ]
        }
      ]
    },
    {
      "cell_type": "code",
      "source": [
        "# write the code to find the union of two sets [1,2,3]and[3,4,5]\n",
        "\n",
        "s1 = {1,2,3}\n",
        "s2 = {3,4,5}\n",
        "print(s1.union(s2))"
      ],
      "metadata": {
        "colab": {
          "base_uri": "https://localhost:8080/"
        },
        "id": "NGtL2iJYKw0T",
        "outputId": "934c316a-a81a-4f70-d484-f3cb90dec170"
      },
      "execution_count": null,
      "outputs": [
        {
          "output_type": "stream",
          "name": "stdout",
          "text": [
            "{1, 2, 3, 4, 5}\n"
          ]
        }
      ]
    },
    {
      "cell_type": "code",
      "source": [
        "# write a cod eto find the intersection of two sets {1,2,3}  {3,4,5}\n",
        "\n",
        "s1 = {1,2,3}\n",
        "s2 = {2,3,4}\n",
        "print(s1.intersection(s2))"
      ],
      "metadata": {
        "colab": {
          "base_uri": "https://localhost:8080/"
        },
        "id": "UX8vm0tYLIu1",
        "outputId": "c2952184-9f25-45a7-ae45-fdb190034859"
      },
      "execution_count": 4,
      "outputs": [
        {
          "output_type": "stream",
          "name": "stdout",
          "text": [
            "{2, 3}\n"
          ]
        }
      ]
    },
    {
      "cell_type": "code",
      "source": [
        "# write the code to creat a dictonery with the keys \"name\",\"age\",and \"city\" and print it\n",
        "\n",
        "d = {\"name\":\"rishi\",\"age\":\"17\",\"place\":\"pune\"}\n",
        "print(d)"
      ],
      "metadata": {
        "colab": {
          "base_uri": "https://localhost:8080/"
        },
        "id": "yjs5pA783LXS",
        "outputId": "688624b9-927b-4302-80dd-576c82b35e57"
      },
      "execution_count": null,
      "outputs": [
        {
          "output_type": "stream",
          "name": "stdout",
          "text": [
            "{'name': 'rishi', 'age': '17', 'place': 'pune'}\n"
          ]
        }
      ]
    },
    {
      "cell_type": "code",
      "source": [
        "# write a code to create a dictionary with the keys \"name\", in the dictinory {'name','john','age'25}\n",
        "\n",
        "r = {\"name\":\"john\",'age':\"25\"}\n",
        "r['country'] = 'USA'\n",
        "print(r)"
      ],
      "metadata": {
        "colab": {
          "base_uri": "https://localhost:8080/"
        },
        "id": "XIo6l3lwLreL",
        "outputId": "c6485d70-5511-4bff-edd2-ced1c2352ca3"
      },
      "execution_count": null,
      "outputs": [
        {
          "output_type": "stream",
          "name": "stdout",
          "text": [
            "{'name': 'john', 'age': '25', 'country': 'USA'}\n"
          ]
        }
      ]
    },
    {
      "cell_type": "code",
      "source": [
        "# write a code to acess the value associated with the key \"name\" in the dictonary{'name': 'alice', 'age':30}\n",
        "\n",
        "d = {'name':'alice','age':'30'}\n",
        "print(d['name'])"
      ],
      "metadata": {
        "colab": {
          "base_uri": "https://localhost:8080/"
        },
        "id": "TlP7bcrw5AAH",
        "outputId": "a8746001-2119-47d7-f697-62e3fb220139"
      },
      "execution_count": null,
      "outputs": [
        {
          "output_type": "stream",
          "name": "stdout",
          "text": [
            "alice\n"
          ]
        }
      ]
    },
    {
      "cell_type": "code",
      "source": [
        "# write a code to remove a key \"age\"from the dictonery {'nmae': 'bob','age':'22','city':'new york'}\n",
        "\n",
        "d = {'nmae': 'bob','age':'22','city':'new york'}\n",
        "d.pop('age')\n",
        "print(d)\n"
      ],
      "metadata": {
        "colab": {
          "base_uri": "https://localhost:8080/"
        },
        "id": "r4Sj2Sv26U0G",
        "outputId": "52a7927c-3699-4989-c67a-68fa9db7f6d4"
      },
      "execution_count": null,
      "outputs": [
        {
          "output_type": "stream",
          "name": "stdout",
          "text": [
            "{'nmae': 'bob', 'city': 'new york'}\n"
          ]
        }
      ]
    },
    {
      "cell_type": "code",
      "source": [
        "# write a code to remove the keys \"city\" exist in the dictionary {'nmae':'alice','city':'paris'}\n",
        "\n",
        "d = {'nmae':'alice','city':'paris'}\n",
        "print(\"city\" in d )"
      ],
      "metadata": {
        "colab": {
          "base_uri": "https://localhost:8080/"
        },
        "id": "N9YBlagf7Kc-",
        "outputId": "e91764ff-62dd-4835-e93e-e5867f827634"
      },
      "execution_count": null,
      "outputs": [
        {
          "output_type": "stream",
          "name": "stdout",
          "text": [
            "True\n"
          ]
        }
      ]
    },
    {
      "cell_type": "code",
      "source": [
        "# write a code to crate a list ,tuple abd dic,and print them all\n",
        "\n",
        "list = [1,2,3]\n",
        "tup =  (1,2,3)\n",
        "dic = {\"my name is\":\"eva\"}\n",
        "print(list,tup,dic)"
      ],
      "metadata": {
        "colab": {
          "base_uri": "https://localhost:8080/"
        },
        "id": "ctEMd51V7iqz",
        "outputId": "bc453d86-4f32-4a1e-b9d6-3cbe9c0d97b1"
      },
      "execution_count": 5,
      "outputs": [
        {
          "output_type": "stream",
          "name": "stdout",
          "text": [
            "[1, 2, 3] (1, 2, 3) {'my name is': 'eva'}\n"
          ]
        }
      ]
    },
    {
      "cell_type": "code",
      "source": [
        "# write a code to create a 5 random numbers between 1 and 100 sort in it ascending order and print the result(replaced)\n",
        "\n",
        "import random\n",
        "nums = random . sample(range(1, 101), 5)\n",
        "nums . sort()\n",
        "print(nums)\n"
      ],
      "metadata": {
        "colab": {
          "base_uri": "https://localhost:8080/"
        },
        "id": "b95FeuOn8Fdi",
        "outputId": "89ece41a-1f1f-4691-aa4b-51ea3a4b82c5"
      },
      "execution_count": null,
      "outputs": [
        {
          "output_type": "stream",
          "name": "stdout",
          "text": [
            "[6, 9, 22, 29, 79]\n"
          ]
        }
      ]
    },
    {
      "cell_type": "code",
      "source": [
        "# write a code to create a list with string and print the element at the third index\n",
        "\n",
        "words = [\"apple\", \"banana\", \"cherry\",\"date\"]\n",
        "print(words[3])"
      ],
      "metadata": {
        "colab": {
          "base_uri": "https://localhost:8080/"
        },
        "id": "cJaWuuJD8lZT",
        "outputId": "1d2a5461-a5e4-47f9-b08d-06c9f1be5cf7"
      },
      "execution_count": null,
      "outputs": [
        {
          "output_type": "stream",
          "name": "stdout",
          "text": [
            "date\n"
          ]
        }
      ]
    },
    {
      "cell_type": "code",
      "source": [
        "# write a code to combine two dictionaries into one and print the result\n",
        "\n",
        "d1 = {\"a\":1}\n",
        "d2 = {\"b\":2}\n",
        "d1.update(d2)\n",
        "print(d1)"
      ],
      "metadata": {
        "colab": {
          "base_uri": "https://localhost:8080/"
        },
        "id": "mBinadv19Ari",
        "outputId": "f32a14e6-2ded-49fa-d906-deac595553ff"
      },
      "execution_count": null,
      "outputs": [
        {
          "output_type": "stream",
          "name": "stdout",
          "text": [
            "{'a': 1, 'b': 2}\n"
          ]
        }
      ]
    },
    {
      "cell_type": "code",
      "source": [
        "# write a code to convert a list of string onto a set .\n",
        "\n",
        "words = [\"a\",\"b\",\"c\"]\n",
        "print(set(words))"
      ],
      "metadata": {
        "colab": {
          "base_uri": "https://localhost:8080/"
        },
        "id": "0Gm66ZAS9lUj",
        "outputId": "b72b56d7-05da-4f99-970c-9460463852d4"
      },
      "execution_count": null,
      "outputs": [
        {
          "output_type": "stream",
          "name": "stdout",
          "text": [
            "{'b', 'c', 'a'}\n"
          ]
        }
      ]
    }
  ],
  "metadata": {
    "colab": {
      "provenance": []
    },
    "kernelspec": {
      "display_name": "Python 3",
      "name": "python3"
    }
  },
  "nbformat": 4,
  "nbformat_minor": 0
}